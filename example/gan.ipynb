{
 "cells": [
  {
   "cell_type": "code",
   "execution_count": 22,
   "metadata": {},
   "outputs": [],
   "source": [
    "import tensorflow as tf\n",
    "import tensorflow_datasets as tfds\n",
    "import matplotlib.pyplot as plt"
   ]
  },
  {
   "cell_type": "code",
   "execution_count": 23,
   "metadata": {},
   "outputs": [],
   "source": [
    "dataset, info = tfds.load(\"fashion_mnist\", split=\"train\", with_info=True)"
   ]
  },
  {
   "cell_type": "code",
   "execution_count": 24,
   "metadata": {},
   "outputs": [],
   "source": [
    "def convert(row):\n",
    "    image = tf.image.convert_image_dtype(row[\"image\"], tf.float32)\n",
    "    label = tf.cast(row[\"label\"], tf.float32)\n",
    "    return image, label"
   ]
  },
  {
   "cell_type": "code",
   "execution_count": 25,
   "metadata": {},
   "outputs": [],
   "source": [
    "batch_size = 32\n",
    "dataset = dataset.map(convert).batch(batch_size).prefetch(1)"
   ]
  },
  {
   "cell_type": "code",
   "execution_count": 26,
   "metadata": {},
   "outputs": [],
   "source": [
    "def get_generator(latent_dimension):\n",
    "\n",
    "    # 조건 서브 네트워크 : 조건을 히든 표현으로 인코딩\n",
    "    condition = tf.keras.layers.Input((1,))\n",
    "    net = tf.keras.layers.Dense(32, activation=tf.nn.elu)(condition)\n",
    "    net = tf.keras.layers.Dense(64, activation=tf.nn.elu)(net)\n",
    "\n",
    "    # 히든 조건 표현을 노이즈와 업샘플에 연결\n",
    "    noise = tf.keras.layers.Input(latent_dimension)\n",
    "    inputs = tf.keras.layers.Concatenate()([noise, net])\n",
    "\n",
    "    # Convert inputs from (batch_size, latent_dimension + 1)\n",
    "    # (batch_size, latent_dimenstion _ 1)인 inputs를\n",
    "    # 컨볼루션을 사용할 수 있는 4차원 텐서로 변경\n",
    "    inputs = tf.keras.layers.Reshape((1, 1, inputs.shape[-1]))(inputs)\n",
    "\n",
    "    depth = 128\n",
    "    kernel_size = 5\n",
    "    net = tf.keras.layers.Conv2DTranspose(\n",
    "        depth, kernel_size, padding=\"valid\", strides=1, activation=tf.nn.relu\n",
    "    )(\n",
    "        inputs\n",
    "    )  # 5x5\n",
    "    net = tf.keras.layers.Conv2DTranspose(\n",
    "        depth // 2, kernel_size, padding=\"valid\", strides=2, activation=tf.nn.relu\n",
    "    )(\n",
    "        net\n",
    "    )  # 13x13\n",
    "    net = tf.keras.layers.Conv2DTranspose(\n",
    "        depth // 4,\n",
    "        kernel_size,\n",
    "        padding=\"valid\",\n",
    "        strides=2,\n",
    "        activation=tf.nn.relu,\n",
    "        use_bias=False,\n",
    "    )(\n",
    "        net\n",
    "    )  # 29x29\n",
    "    # 28x28x1 출력을 얻기 위해 2x2 커널과의 표준 컨볼루션\n",
    "    # 이미지가 [0, 1] 범위에 있기 때문에 출력은 sigmoid를 사용한다.\n",
    "    net = tf.keras.layers.Conv2D(\n",
    "        1, 2, padding=\"valid\", strides=1, activation=tf.nn.sigmoid, use_bias=False\n",
    "    )(net)\n",
    "    model = tf.keras.Model(inputs=[noise, condition], outputs=net)\n",
    "    return model"
   ]
  },
  {
   "cell_type": "code",
   "execution_count": 27,
   "metadata": {},
   "outputs": [],
   "source": [
    "def get_discriminator():\n",
    "    # 인코더 서브네트워크 : 피처 벡터를 얻는 피처 추출기\n",
    "    image = tf.keras.layers.Input((28, 28, 1))\n",
    "    depth = 32\n",
    "    kernel_size = 3\n",
    "    net = tf.keras.layers.Conv2D(\n",
    "        depth, kernel_size, padding=\"same\", strides=2, activation=tf.nn.relu\n",
    "    )(\n",
    "        image\n",
    "    )  # 14x14x32\n",
    "    net = tf.keras.layers.Conv2D(\n",
    "        depth * 2, kernel_size, padding=\"same\", strides=2, activation=tf.nn.relu\n",
    "    )(\n",
    "        net\n",
    "    )  # 7x7x64\n",
    "\n",
    "    net = tf.keras.layers.Conv2D(\n",
    "        depth * 3, kernel_size, padding=\"same\", strides=2, activation=tf.nn.relu\n",
    "    )(\n",
    "        net\n",
    "    )  # 4x4x96\n",
    "\n",
    "    feature_vector = tf.keras.layers.Flatten()(net)  # 4*4*96\n",
    "    \n",
    "    # 조건에 관한 히든 표현 만들기\n",
    "    condition = tf.keras.layers.Input((1,))\n",
    "    hidden = tf.keras.layers.Dense(32, activation=tf.nn.elu)(condition)\n",
    "    hidden = tf.keras.layers.Dense(64, activation=tf.nn.elu)(hidden)\n",
    "\n",
    "    # 피처 벡터와 히든 레이블 표현 연결\n",
    "    out = tf.keras.layers.Concatenate()([feature_vector, hidden])\n",
    "\n",
    "    # 단일 선형 뉴런으로 이뤄진 최종 분류 레이어 추가\n",
    "    out = tf.keras.layers.Dense(128, activation=tf.nn.relu)(out)\n",
    "    out = tf.keras.layers.Dense(1)(out)\n",
    "\n",
    "    model = tf.keras.Model(inputs=[image, condition], outputs=out)\n",
    "    return model"
   ]
  },
  {
   "cell_type": "code",
   "execution_count": 28,
   "metadata": {},
   "outputs": [],
   "source": [
    "bce = tf.keras.losses.BinaryCrossentropy(from_logits=True)"
   ]
  },
  {
   "cell_type": "code",
   "execution_count": 29,
   "metadata": {},
   "outputs": [],
   "source": [
    "def d_loss(d_real, d_fake):\n",
    "    \"\"\"판별기 손실함수\"\"\"\n",
    "    return bce(tf.ones_like(d_real), d_real) + bce(tf.zeros_like(d_fake), d_fake)"
   ]
  },
  {
   "cell_type": "code",
   "execution_count": 30,
   "metadata": {},
   "outputs": [],
   "source": [
    "def g_loss(generated_output):\n",
    "    \"\"\"생성기 손실함수\"\"\"\n",
    "    return bce(tf.ones_like(generated_output), generated_output)"
   ]
  },
  {
   "cell_type": "code",
   "execution_count": 31,
   "metadata": {},
   "outputs": [],
   "source": [
    "latent_dimension = 100\n",
    "G = get_generator(latent_dimension)\n",
    "D = get_discriminator()"
   ]
  },
  {
   "cell_type": "code",
   "execution_count": 32,
   "metadata": {},
   "outputs": [],
   "source": [
    "def train():\n",
    "    # 옵티마이저 및 학습 연산을 정의한다.\n",
    "    optimizer = tf.keras.optimizers.Adam(1e-5)\n",
    "\n",
    "    @tf.function\n",
    "    def train_step(image, label):\n",
    "        with tf.GradientTape(persistent=True) as tape:\n",
    "            noise_vector = tf.random.normal(\n",
    "                mean=0, stddev=1, shape=(image.shape[0], latent_dimension)\n",
    "            )\n",
    "            # 생성기에서 샘플링\n",
    "            fake_data = G([noise_vector, label])\n",
    "            # D 손실 게산\n",
    "            d_fake_data = D([fake_data, label])\n",
    "            d_real_data = D([image, label])\n",
    "\n",
    "            d_loss_value = d_loss(d_real_data, d_fake_data)\n",
    "            # G 손실 계산\n",
    "            g_loss_value = g_loss(d_fake_data)\n",
    "        # 이제 손실을 계산했으므로 그래디언트를 계산하고\n",
    "        # 네트워크를 최적화할 수 있다.\n",
    "        d_gradients = tape.gradient(d_loss_value, D.trainable_variables)\n",
    "        g_gradients = tape.gradient(g_loss_value, G.trainable_variables)\n",
    "        # 테이프를 영구로 정의했기 때문에 테이프 삭제\n",
    "        del tape\n",
    "\n",
    "        optimizer.apply_gradients(zip(d_gradients, D.trainable_variables))\n",
    "        optimizer.apply_gradients(zip(g_gradients, G.trainable_variables))\n",
    "        return g_loss_value, d_loss_value, fake_data[0], label[0]\n",
    "\n",
    "    epochs = 50\n",
    "    for epoch in range(epochs):\n",
    "        for image, label in dataset:\n",
    "            g_loss_value, d_loss_value, generated, condition = train_step(image, label)\n",
    "\n",
    "        print(\"epoch \", epoch, \"complete\")\n",
    "        print(\"loss:\", g_loss_value, \"d_loss: \", d_loss_value)\n",
    "        print(\n",
    "            \"condition \",\n",
    "            info.features[\"label\"].int2str(\n",
    "                tf.squeeze(tf.cast(condition, tf.int32)).numpy()\n",
    "            ),\n",
    "        )\n",
    "        plt.imshow(tf.squeeze(generated).numpy(), cmap=\"gray\")\n",
    "        plt.show()"
   ]
  },
  {
   "cell_type": "code",
   "execution_count": 33,
   "metadata": {},
   "outputs": [
    {
     "name": "stdout",
     "output_type": "stream",
     "text": [
      "epoch  0 complete\n",
      "loss: tf.Tensor(1.6971331, shape=(), dtype=float32) d_loss:  tf.Tensor(0.56277406, shape=(), dtype=float32)\n",
      "condition  Dress\n"
     ]
    },
    {
     "data": {
      "image/png": "[encoded data removed]",
      "text/plain": [
       "<Figure size 432x288 with 1 Axes>"
      ]
     },
     "metadata": {
      "needs_background": "light"
     },
     "output_type": "display_data"
    },
    {
     "name": "stdout",
     "output_type": "stream",
     "text": [
      "epoch  1 complete\n",
      "loss: tf.Tensor(2.862579, shape=(), dtype=float32) d_loss:  tf.Tensor(0.0806617, shape=(), dtype=float32)\n",
      "condition  Dress\n"
     ]
    },
    {
     "data": {
      "image/png": "[encoded data removed]",
      "text/plain": [
       "<Figure size 432x288 with 1 Axes>"
      ]
     },
     "metadata": {
      "needs_background": "light"
     },
     "output_type": "display_data"
    },
    {
     "name": "stdout",
     "output_type": "stream",
     "text": [
      "epoch  2 complete\n",
      "loss: tf.Tensor(3.0362253, shape=(), dtype=float32) d_loss:  tf.Tensor(0.17332894, shape=(), dtype=float32)\n",
      "condition  Dress\n"
     ]
    },
    {
     "data": {
      "image/png": "[encoded data removed]",
      "text/plain": [
       "<Figure size 432x288 with 1 Axes>"
      ]
     },
     "metadata": {
      "needs_background": "light"
     },
     "output_type": "display_data"
    },
    {
     "name": "stdout",
     "output_type": "stream",
     "text": [
      "epoch  3 complete\n",
      "loss: tf.Tensor(3.937224, shape=(), dtype=float32) d_loss:  tf.Tensor(0.025366688, shape=(), dtype=float32)\n",
      "condition  Dress\n"
     ]
    },
    {
     "data": {
      "image/png": "[encoded data removed]",
      "text/plain": [
       "<Figure size 432x288 with 1 Axes>"
      ]
     },
     "metadata": {
      "needs_background": "light"
     },
     "output_type": "display_data"
    },
    {
     "name": "stdout",
     "output_type": "stream",
     "text": [
      "epoch  4 complete\n",
      "loss: tf.Tensor(1.2182724, shape=(), dtype=float32) d_loss:  tf.Tensor(1.9167857, shape=(), dtype=float32)\n",
      "condition  Dress\n"
     ]
    },
    {
     "data": {
      "image/png": "[encoded data removed]",
      "text/plain": [
       "<Figure size 432x288 with 1 Axes>"
      ]
     },
     "metadata": {
      "needs_background": "light"
     },
     "output_type": "display_data"
    },
    {
     "name": "stdout",
     "output_type": "stream",
     "text": [
      "epoch  5 complete\n",
      "loss: tf.Tensor(2.9516795, shape=(), dtype=float32) d_loss:  tf.Tensor(0.29738712, shape=(), dtype=float32)\n",
      "condition  Dress\n"
     ]
    },
    {
     "data": {
      "image/png": "[encoded data removed]",
      "text/plain": [
       "<Figure size 432x288 with 1 Axes>"
      ]
     },
     "metadata": {
      "needs_background": "light"
     },
     "output_type": "display_data"
    },
    {
     "name": "stdout",
     "output_type": "stream",
     "text": [
      "epoch  6 complete\n",
      "loss: tf.Tensor(3.7203696, shape=(), dtype=float32) d_loss:  tf.Tensor(0.034107987, shape=(), dtype=float32)\n",
      "condition  Dress\n"
     ]
    },
    {
     "data": {
      "image/png": "[encoded data removed]",
      "text/plain": [
       "<Figure size 432x288 with 1 Axes>"
      ]
     },
     "metadata": {
      "needs_background": "light"
     },
     "output_type": "display_data"
    },
    {
     "name": "stdout",
     "output_type": "stream",
     "text": [
      "epoch  7 complete\n",
      "loss: tf.Tensor(1.7941656, shape=(), dtype=float32) d_loss:  tf.Tensor(0.8000195, shape=(), dtype=float32)\n",
      "condition  Dress\n"
     ]
    },
    {
     "data": {
      "image/png": "[encoded data removed]",
      "text/plain": [
       "<Figure size 432x288 with 1 Axes>"
      ]
     },
     "metadata": {
      "needs_background": "light"
     },
     "output_type": "display_data"
    },
    {
     "name": "stdout",
     "output_type": "stream",
     "text": [
      "epoch  8 complete\n",
      "loss: tf.Tensor(2.2384944, shape=(), dtype=float32) d_loss:  tf.Tensor(0.6690054, shape=(), dtype=float32)\n",
      "condition  Dress\n"
     ]
    },
    {
     "data": {
      "image/png": "[encoded data removed]",
      "text/plain": [
       "<Figure size 432x288 with 1 Axes>"
      ]
     },
     "metadata": {
      "needs_background": "light"
     },
     "output_type": "display_data"
    },
    {
     "name": "stdout",
     "output_type": "stream",
     "text": [
      "epoch  9 complete\n",
      "loss: tf.Tensor(1.8836997, shape=(), dtype=float32) d_loss:  tf.Tensor(0.8592975, shape=(), dtype=float32)\n",
      "condition  Dress\n"
     ]
    },
    {
     "data": {
      "image/png": "[encoded data removed]",
      "text/plain": [
       "<Figure size 432x288 with 1 Axes>"
      ]
     },
     "metadata": {
      "needs_background": "light"
     },
     "output_type": "display_data"
    },
    {
     "name": "stdout",
     "output_type": "stream",
     "text": [
      "epoch  10 complete\n",
      "loss: tf.Tensor(1.7648954, shape=(), dtype=float32) d_loss:  tf.Tensor(0.29360357, shape=(), dtype=float32)\n",
      "condition  Dress\n"
     ]
    },
    {
     "data": {
      "image/png": "[encoded data removed]",
      "text/plain": [
       "<Figure size 432x288 with 1 Axes>"
      ]
     },
     "metadata": {
      "needs_background": "light"
     },
     "output_type": "display_data"
    },
    {
     "ename": "KeyboardInterrupt",
     "evalue": "",
     "output_type": "error",
     "traceback": [
      "\u001b[1;31m---------------------------------------------------------------------------\u001b[0m",
      "\u001b[1;31mKeyboardInterrupt\u001b[0m                         Traceback (most recent call last)",
      "\u001b[1;32mc:\\mibot\\jupyter\\gan.ipynb Cell 12'\u001b[0m in \u001b[0;36m<cell line: 1>\u001b[1;34m()\u001b[0m\n\u001b[1;32m----> <a href='vscode-notebook-cell:/c%3A/mibot/jupyter/gan.ipynb#ch0000011?line=0'>1</a>\u001b[0m train()\n",
      "\u001b[1;32mc:\\mibot\\jupyter\\gan.ipynb Cell 11'\u001b[0m in \u001b[0;36mtrain\u001b[1;34m()\u001b[0m\n\u001b[0;32m     <a href='vscode-notebook-cell:/c%3A/mibot/jupyter/gan.ipynb#ch0000010?line=31'>32</a>\u001b[0m \u001b[39mfor\u001b[39;00m epoch \u001b[39min\u001b[39;00m \u001b[39mrange\u001b[39m(epochs):\n\u001b[0;32m     <a href='vscode-notebook-cell:/c%3A/mibot/jupyter/gan.ipynb#ch0000010?line=32'>33</a>\u001b[0m     \u001b[39mfor\u001b[39;00m image, label \u001b[39min\u001b[39;00m dataset:\n\u001b[1;32m---> <a href='vscode-notebook-cell:/c%3A/mibot/jupyter/gan.ipynb#ch0000010?line=33'>34</a>\u001b[0m         g_loss_value, d_loss_value, generated, condition \u001b[39m=\u001b[39m train_step(image, label)\n\u001b[0;32m     <a href='vscode-notebook-cell:/c%3A/mibot/jupyter/gan.ipynb#ch0000010?line=35'>36</a>\u001b[0m     \u001b[39mprint\u001b[39m(\u001b[39m\"\u001b[39m\u001b[39mepoch \u001b[39m\u001b[39m\"\u001b[39m, epoch, \u001b[39m\"\u001b[39m\u001b[39mcomplete\u001b[39m\u001b[39m\"\u001b[39m)\n\u001b[0;32m     <a href='vscode-notebook-cell:/c%3A/mibot/jupyter/gan.ipynb#ch0000010?line=36'>37</a>\u001b[0m     \u001b[39mprint\u001b[39m(\u001b[39m\"\u001b[39m\u001b[39mloss:\u001b[39m\u001b[39m\"\u001b[39m, g_loss_value, \u001b[39m\"\u001b[39m\u001b[39md_loss: \u001b[39m\u001b[39m\"\u001b[39m, d_loss_value)\n",
      "File \u001b[1;32mc:\\ProgramData\\Anaconda3\\envs\\mibot\\lib\\site-packages\\tensorflow\\python\\util\\traceback_utils.py:150\u001b[0m, in \u001b[0;36mfilter_traceback.<locals>.error_handler\u001b[1;34m(*args, **kwargs)\u001b[0m\n\u001b[0;32m    148\u001b[0m filtered_tb \u001b[39m=\u001b[39m \u001b[39mNone\u001b[39;00m\n\u001b[0;32m    149\u001b[0m \u001b[39mtry\u001b[39;00m:\n\u001b[1;32m--> 150\u001b[0m   \u001b[39mreturn\u001b[39;00m fn(\u001b[39m*\u001b[39margs, \u001b[39m*\u001b[39m\u001b[39m*\u001b[39mkwargs)\n\u001b[0;32m    151\u001b[0m \u001b[39mexcept\u001b[39;00m \u001b[39mException\u001b[39;00m \u001b[39mas\u001b[39;00m e:\n\u001b[0;32m    152\u001b[0m   filtered_tb \u001b[39m=\u001b[39m _process_traceback_frames(e\u001b[39m.\u001b[39m__traceback__)\n",
      "File \u001b[1;32mc:\\ProgramData\\Anaconda3\\envs\\mibot\\lib\\site-packages\\tensorflow\\python\\eager\\def_function.py:910\u001b[0m, in \u001b[0;36mFunction.__call__\u001b[1;34m(self, *args, **kwds)\u001b[0m\n\u001b[0;32m    907\u001b[0m compiler \u001b[39m=\u001b[39m \u001b[39m\"\u001b[39m\u001b[39mxla\u001b[39m\u001b[39m\"\u001b[39m \u001b[39mif\u001b[39;00m \u001b[39mself\u001b[39m\u001b[39m.\u001b[39m_jit_compile \u001b[39melse\u001b[39;00m \u001b[39m\"\u001b[39m\u001b[39mnonXla\u001b[39m\u001b[39m\"\u001b[39m\n\u001b[0;32m    909\u001b[0m \u001b[39mwith\u001b[39;00m OptionalXlaContext(\u001b[39mself\u001b[39m\u001b[39m.\u001b[39m_jit_compile):\n\u001b[1;32m--> 910\u001b[0m   result \u001b[39m=\u001b[39m \u001b[39mself\u001b[39m\u001b[39m.\u001b[39m_call(\u001b[39m*\u001b[39margs, \u001b[39m*\u001b[39m\u001b[39m*\u001b[39mkwds)\n\u001b[0;32m    912\u001b[0m new_tracing_count \u001b[39m=\u001b[39m \u001b[39mself\u001b[39m\u001b[39m.\u001b[39mexperimental_get_tracing_count()\n\u001b[0;32m    913\u001b[0m without_tracing \u001b[39m=\u001b[39m (tracing_count \u001b[39m==\u001b[39m new_tracing_count)\n",
      "File \u001b[1;32mc:\\ProgramData\\Anaconda3\\envs\\mibot\\lib\\site-packages\\tensorflow\\python\\eager\\def_function.py:942\u001b[0m, in \u001b[0;36mFunction._call\u001b[1;34m(self, *args, **kwds)\u001b[0m\n\u001b[0;32m    939\u001b[0m   \u001b[39mself\u001b[39m\u001b[39m.\u001b[39m_lock\u001b[39m.\u001b[39mrelease()\n\u001b[0;32m    940\u001b[0m   \u001b[39m# In this case we have created variables on the first call, so we run the\u001b[39;00m\n\u001b[0;32m    941\u001b[0m   \u001b[39m# defunned version which is guaranteed to never create variables.\u001b[39;00m\n\u001b[1;32m--> 942\u001b[0m   \u001b[39mreturn\u001b[39;00m \u001b[39mself\u001b[39m\u001b[39m.\u001b[39m_stateless_fn(\u001b[39m*\u001b[39margs, \u001b[39m*\u001b[39m\u001b[39m*\u001b[39mkwds)  \u001b[39m# pylint: disable=not-callable\u001b[39;00m\n\u001b[0;32m    943\u001b[0m \u001b[39melif\u001b[39;00m \u001b[39mself\u001b[39m\u001b[39m.\u001b[39m_stateful_fn \u001b[39mis\u001b[39;00m \u001b[39mnot\u001b[39;00m \u001b[39mNone\u001b[39;00m:\n\u001b[0;32m    944\u001b[0m   \u001b[39m# Release the lock early so that multiple threads can perform the call\u001b[39;00m\n\u001b[0;32m    945\u001b[0m   \u001b[39m# in parallel.\u001b[39;00m\n\u001b[0;32m    946\u001b[0m   \u001b[39mself\u001b[39m\u001b[39m.\u001b[39m_lock\u001b[39m.\u001b[39mrelease()\n",
      "File \u001b[1;32mc:\\ProgramData\\Anaconda3\\envs\\mibot\\lib\\site-packages\\tensorflow\\python\\eager\\function.py:3130\u001b[0m, in \u001b[0;36mFunction.__call__\u001b[1;34m(self, *args, **kwargs)\u001b[0m\n\u001b[0;32m   3127\u001b[0m \u001b[39mwith\u001b[39;00m \u001b[39mself\u001b[39m\u001b[39m.\u001b[39m_lock:\n\u001b[0;32m   3128\u001b[0m   (graph_function,\n\u001b[0;32m   3129\u001b[0m    filtered_flat_args) \u001b[39m=\u001b[39m \u001b[39mself\u001b[39m\u001b[39m.\u001b[39m_maybe_define_function(args, kwargs)\n\u001b[1;32m-> 3130\u001b[0m \u001b[39mreturn\u001b[39;00m graph_function\u001b[39m.\u001b[39;49m_call_flat(\n\u001b[0;32m   3131\u001b[0m     filtered_flat_args, captured_inputs\u001b[39m=\u001b[39;49mgraph_function\u001b[39m.\u001b[39;49mcaptured_inputs)\n",
      "File \u001b[1;32mc:\\ProgramData\\Anaconda3\\envs\\mibot\\lib\\site-packages\\tensorflow\\python\\eager\\function.py:1959\u001b[0m, in \u001b[0;36mConcreteFunction._call_flat\u001b[1;34m(self, args, captured_inputs, cancellation_manager)\u001b[0m\n\u001b[0;32m   1955\u001b[0m possible_gradient_type \u001b[39m=\u001b[39m gradients_util\u001b[39m.\u001b[39mPossibleTapeGradientTypes(args)\n\u001b[0;32m   1956\u001b[0m \u001b[39mif\u001b[39;00m (possible_gradient_type \u001b[39m==\u001b[39m gradients_util\u001b[39m.\u001b[39mPOSSIBLE_GRADIENT_TYPES_NONE\n\u001b[0;32m   1957\u001b[0m     \u001b[39mand\u001b[39;00m executing_eagerly):\n\u001b[0;32m   1958\u001b[0m   \u001b[39m# No tape is watching; skip to running the function.\u001b[39;00m\n\u001b[1;32m-> 1959\u001b[0m   \u001b[39mreturn\u001b[39;00m \u001b[39mself\u001b[39m\u001b[39m.\u001b[39m_build_call_outputs(\u001b[39mself\u001b[39;49m\u001b[39m.\u001b[39;49m_inference_function\u001b[39m.\u001b[39;49mcall(\n\u001b[0;32m   1960\u001b[0m       ctx, args, cancellation_manager\u001b[39m=\u001b[39;49mcancellation_manager))\n\u001b[0;32m   1961\u001b[0m forward_backward \u001b[39m=\u001b[39m \u001b[39mself\u001b[39m\u001b[39m.\u001b[39m_select_forward_and_backward_functions(\n\u001b[0;32m   1962\u001b[0m     args,\n\u001b[0;32m   1963\u001b[0m     possible_gradient_type,\n\u001b[0;32m   1964\u001b[0m     executing_eagerly)\n\u001b[0;32m   1965\u001b[0m forward_function, args_with_tangents \u001b[39m=\u001b[39m forward_backward\u001b[39m.\u001b[39mforward()\n",
      "File \u001b[1;32mc:\\ProgramData\\Anaconda3\\envs\\mibot\\lib\\site-packages\\tensorflow\\python\\eager\\function.py:598\u001b[0m, in \u001b[0;36m_EagerDefinedFunction.call\u001b[1;34m(self, ctx, args, cancellation_manager)\u001b[0m\n\u001b[0;32m    596\u001b[0m \u001b[39mwith\u001b[39;00m _InterpolateFunctionError(\u001b[39mself\u001b[39m):\n\u001b[0;32m    597\u001b[0m   \u001b[39mif\u001b[39;00m cancellation_manager \u001b[39mis\u001b[39;00m \u001b[39mNone\u001b[39;00m:\n\u001b[1;32m--> 598\u001b[0m     outputs \u001b[39m=\u001b[39m execute\u001b[39m.\u001b[39;49mexecute(\n\u001b[0;32m    599\u001b[0m         \u001b[39mstr\u001b[39;49m(\u001b[39mself\u001b[39;49m\u001b[39m.\u001b[39;49msignature\u001b[39m.\u001b[39;49mname),\n\u001b[0;32m    600\u001b[0m         num_outputs\u001b[39m=\u001b[39;49m\u001b[39mself\u001b[39;49m\u001b[39m.\u001b[39;49m_num_outputs,\n\u001b[0;32m    601\u001b[0m         inputs\u001b[39m=\u001b[39;49margs,\n\u001b[0;32m    602\u001b[0m         attrs\u001b[39m=\u001b[39;49mattrs,\n\u001b[0;32m    603\u001b[0m         ctx\u001b[39m=\u001b[39;49mctx)\n\u001b[0;32m    604\u001b[0m   \u001b[39melse\u001b[39;00m:\n\u001b[0;32m    605\u001b[0m     outputs \u001b[39m=\u001b[39m execute\u001b[39m.\u001b[39mexecute_with_cancellation(\n\u001b[0;32m    606\u001b[0m         \u001b[39mstr\u001b[39m(\u001b[39mself\u001b[39m\u001b[39m.\u001b[39msignature\u001b[39m.\u001b[39mname),\n\u001b[0;32m    607\u001b[0m         num_outputs\u001b[39m=\u001b[39m\u001b[39mself\u001b[39m\u001b[39m.\u001b[39m_num_outputs,\n\u001b[1;32m   (...)\u001b[0m\n\u001b[0;32m    610\u001b[0m         ctx\u001b[39m=\u001b[39mctx,\n\u001b[0;32m    611\u001b[0m         cancellation_manager\u001b[39m=\u001b[39mcancellation_manager)\n",
      "File \u001b[1;32mc:\\ProgramData\\Anaconda3\\envs\\mibot\\lib\\site-packages\\tensorflow\\python\\eager\\execute.py:58\u001b[0m, in \u001b[0;36mquick_execute\u001b[1;34m(op_name, num_outputs, inputs, attrs, ctx, name)\u001b[0m\n\u001b[0;32m     56\u001b[0m \u001b[39mtry\u001b[39;00m:\n\u001b[0;32m     57\u001b[0m   ctx\u001b[39m.\u001b[39mensure_initialized()\n\u001b[1;32m---> 58\u001b[0m   tensors \u001b[39m=\u001b[39m pywrap_tfe\u001b[39m.\u001b[39;49mTFE_Py_Execute(ctx\u001b[39m.\u001b[39;49m_handle, device_name, op_name,\n\u001b[0;32m     59\u001b[0m                                       inputs, attrs, num_outputs)\n\u001b[0;32m     60\u001b[0m \u001b[39mexcept\u001b[39;00m core\u001b[39m.\u001b[39m_NotOkStatusException \u001b[39mas\u001b[39;00m e:\n\u001b[0;32m     61\u001b[0m   \u001b[39mif\u001b[39;00m name \u001b[39mis\u001b[39;00m \u001b[39mnot\u001b[39;00m \u001b[39mNone\u001b[39;00m:\n",
      "\u001b[1;31mKeyboardInterrupt\u001b[0m: "
     ]
    }
   ],
   "source": [
    "train()"
   ]
  }
 ],
 "metadata": {
  "kernelspec": {
   "display_name": "mibot",
   "language": "python",
   "name": "conda"
  },
  "language_info": {
   "codemirror_mode": {
    "name": "ipython",
    "version": 3
   },
   "file_extension": ".py",
   "mimetype": "text/x-python",
   "name": "python",
   "nbconvert_exporter": "python",
   "pygments_lexer": "ipython3",
   "version": "3.9.12"
  },
  "orig_nbformat": 4
 },
 "nbformat": 4,
 "nbformat_minor": 2
}
