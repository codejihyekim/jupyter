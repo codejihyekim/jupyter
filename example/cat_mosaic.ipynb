{
 "cells": [
  {
   "cell_type": "code",
   "execution_count": 12,
   "metadata": {},
   "outputs": [],
   "source": [
    "import cv2\n",
    "cat = './data/cat.jpg'"
   ]
  },
  {
   "cell_type": "code",
   "execution_count": 13,
   "metadata": {},
   "outputs": [],
   "source": [
    "def mosaic(img, rect, size):\n",
    "    (x1, y1, x2, y2) = rect\n",
    "    w = x2 - x1\n",
    "    h = y2 - y1\n",
    "    i_rect = img[y1:y2, x1:x2]\n",
    "    i_small = cv2.resize(i_rect, (size, size))\n",
    "    i_mos = cv2.resize(i_small, (w, h), interpolation=cv2.INTER_AREA)\n",
    "    img2 = img.copy()\n",
    "    img2[y1:y2, x1:x2] = i_mos\n",
    "    return img2"
   ]
  },
  {
   "cell_type": "code",
   "execution_count": 14,
   "metadata": {},
   "outputs": [
    {
     "data": {
      "text/plain": [
       "True"
      ]
     },
     "execution_count": 14,
     "metadata": {},
     "output_type": "execute_result"
    }
   ],
   "source": [
    "img = cv2.imread(cat)\n",
    "rect = (50, 50, 450, 450)\n",
    "size = 10\n",
    "mos = mosaic(img, rect, size)\n",
    "cv2.imwrite('cat-mosaic.png', mos)"
   ]
  }
 ],
 "metadata": {
  "kernelspec": {
   "display_name": "mibot",
   "language": "python",
   "name": "conda"
  },
  "language_info": {
   "codemirror_mode": {
    "name": "ipython",
    "version": 3
   },
   "file_extension": ".py",
   "mimetype": "text/x-python",
   "name": "python",
   "nbconvert_exporter": "python",
   "pygments_lexer": "ipython3",
   "version": "3.9.12"
  },
  "orig_nbformat": 4,
  "vscode": {
   "interpreter": {
    "hash": "296d6c2304e866f09d779e81f4ba7d519d31775cb97ff7dfe325acd1fedb67c7"
   }
  }
 },
 "nbformat": 4,
 "nbformat_minor": 2
}
